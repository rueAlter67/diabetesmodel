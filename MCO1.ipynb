{
 "cells": [
  {
   "cell_type": "markdown",
   "id": "51c4fefa-9cd3-4a63-a71c-992ee4df1a92",
   "metadata": {},
   "source": [
    "# Machine Project\n",
    "This is the start of the project"
   ]
  },
  {
   "cell_type": "code",
   "execution_count": 5,
   "id": "9cd2406a-c533-4019-b969-34eee1ab817b",
   "metadata": {},
   "outputs": [],
   "source": [
    "import os #to check working directory\n",
    "import numpy as py\n",
    "import pandas as pd\n",
    "import matplotlib.pyplot as plt"
   ]
  },
  {
   "cell_type": "code",
   "execution_count": 7,
   "id": "495191b8-5842-41d5-8382-09c5520b0174",
   "metadata": {},
   "outputs": [
    {
     "data": {
      "text/plain": [
       "'C:\\\\Users\\\\cacat\\\\OneDrive - De La Salle University - Manila\\\\Desktop\\\\Inbox\\\\Academe\\\\2023-2024\\\\TERM 3 (MAY-SEPT)\\\\CSMODEL\\\\Machine Project'"
      ]
     },
     "execution_count": 7,
     "metadata": {},
     "output_type": "execute_result"
    }
   ],
   "source": [
    "path = os.getcwd()  #in case your database isn't in the same folder as your notebook\n",
    "path"
   ]
  },
  {
   "cell_type": "code",
   "execution_count": 9,
   "id": "f3bcf373-27c2-46d1-a1ed-40652384577b",
   "metadata": {},
   "outputs": [
    {
     "data": {
      "text/html": [
       "<div>\n",
       "<style scoped>\n",
       "    .dataframe tbody tr th:only-of-type {\n",
       "        vertical-align: middle;\n",
       "    }\n",
       "\n",
       "    .dataframe tbody tr th {\n",
       "        vertical-align: top;\n",
       "    }\n",
       "\n",
       "    .dataframe thead th {\n",
       "        text-align: right;\n",
       "    }\n",
       "</style>\n",
       "<table border=\"1\" class=\"dataframe\">\n",
       "  <thead>\n",
       "    <tr style=\"text-align: right;\">\n",
       "      <th></th>\n",
       "      <th>_STATE</th>\n",
       "      <th>FMONTH</th>\n",
       "      <th>IDATE</th>\n",
       "      <th>IMONTH</th>\n",
       "      <th>IDAY</th>\n",
       "      <th>IYEAR</th>\n",
       "      <th>DISPCODE</th>\n",
       "      <th>SEQNO</th>\n",
       "      <th>_PSU</th>\n",
       "      <th>CTELENUM</th>\n",
       "      <th>...</th>\n",
       "      <th>_PAREC1</th>\n",
       "      <th>_PASTAE1</th>\n",
       "      <th>_LMTACT1</th>\n",
       "      <th>_LMTWRK1</th>\n",
       "      <th>_LMTSCL1</th>\n",
       "      <th>_RFSEAT2</th>\n",
       "      <th>_RFSEAT3</th>\n",
       "      <th>_FLSHOT6</th>\n",
       "      <th>_PNEUMO2</th>\n",
       "      <th>_AIDTST3</th>\n",
       "    </tr>\n",
       "  </thead>\n",
       "  <tbody>\n",
       "    <tr>\n",
       "      <th>0</th>\n",
       "      <td>1.0</td>\n",
       "      <td>1.0</td>\n",
       "      <td>b'01292015'</td>\n",
       "      <td>b'01'</td>\n",
       "      <td>b'29'</td>\n",
       "      <td>b'2015'</td>\n",
       "      <td>1200.0</td>\n",
       "      <td>2.015000e+09</td>\n",
       "      <td>2.015000e+09</td>\n",
       "      <td>1.0</td>\n",
       "      <td>...</td>\n",
       "      <td>4.0</td>\n",
       "      <td>2.0</td>\n",
       "      <td>1.0</td>\n",
       "      <td>1.0</td>\n",
       "      <td>1.0</td>\n",
       "      <td>1.0</td>\n",
       "      <td>1.0</td>\n",
       "      <td>NaN</td>\n",
       "      <td>NaN</td>\n",
       "      <td>1.0</td>\n",
       "    </tr>\n",
       "    <tr>\n",
       "      <th>1</th>\n",
       "      <td>1.0</td>\n",
       "      <td>1.0</td>\n",
       "      <td>b'01202015'</td>\n",
       "      <td>b'01'</td>\n",
       "      <td>b'20'</td>\n",
       "      <td>b'2015'</td>\n",
       "      <td>1100.0</td>\n",
       "      <td>2.015000e+09</td>\n",
       "      <td>2.015000e+09</td>\n",
       "      <td>1.0</td>\n",
       "      <td>...</td>\n",
       "      <td>2.0</td>\n",
       "      <td>2.0</td>\n",
       "      <td>3.0</td>\n",
       "      <td>3.0</td>\n",
       "      <td>4.0</td>\n",
       "      <td>2.0</td>\n",
       "      <td>2.0</td>\n",
       "      <td>NaN</td>\n",
       "      <td>NaN</td>\n",
       "      <td>2.0</td>\n",
       "    </tr>\n",
       "    <tr>\n",
       "      <th>2</th>\n",
       "      <td>1.0</td>\n",
       "      <td>1.0</td>\n",
       "      <td>b'02012015'</td>\n",
       "      <td>b'02'</td>\n",
       "      <td>b'01'</td>\n",
       "      <td>b'2015'</td>\n",
       "      <td>1200.0</td>\n",
       "      <td>2.015000e+09</td>\n",
       "      <td>2.015000e+09</td>\n",
       "      <td>1.0</td>\n",
       "      <td>...</td>\n",
       "      <td>9.0</td>\n",
       "      <td>9.0</td>\n",
       "      <td>9.0</td>\n",
       "      <td>9.0</td>\n",
       "      <td>9.0</td>\n",
       "      <td>9.0</td>\n",
       "      <td>9.0</td>\n",
       "      <td>9.0</td>\n",
       "      <td>9.0</td>\n",
       "      <td>NaN</td>\n",
       "    </tr>\n",
       "    <tr>\n",
       "      <th>3</th>\n",
       "      <td>1.0</td>\n",
       "      <td>1.0</td>\n",
       "      <td>b'01142015'</td>\n",
       "      <td>b'01'</td>\n",
       "      <td>b'14'</td>\n",
       "      <td>b'2015'</td>\n",
       "      <td>1100.0</td>\n",
       "      <td>2.015000e+09</td>\n",
       "      <td>2.015000e+09</td>\n",
       "      <td>1.0</td>\n",
       "      <td>...</td>\n",
       "      <td>4.0</td>\n",
       "      <td>2.0</td>\n",
       "      <td>1.0</td>\n",
       "      <td>1.0</td>\n",
       "      <td>1.0</td>\n",
       "      <td>1.0</td>\n",
       "      <td>1.0</td>\n",
       "      <td>NaN</td>\n",
       "      <td>NaN</td>\n",
       "      <td>9.0</td>\n",
       "    </tr>\n",
       "    <tr>\n",
       "      <th>4</th>\n",
       "      <td>1.0</td>\n",
       "      <td>1.0</td>\n",
       "      <td>b'01142015'</td>\n",
       "      <td>b'01'</td>\n",
       "      <td>b'14'</td>\n",
       "      <td>b'2015'</td>\n",
       "      <td>1100.0</td>\n",
       "      <td>2.015000e+09</td>\n",
       "      <td>2.015000e+09</td>\n",
       "      <td>1.0</td>\n",
       "      <td>...</td>\n",
       "      <td>4.0</td>\n",
       "      <td>2.0</td>\n",
       "      <td>1.0</td>\n",
       "      <td>1.0</td>\n",
       "      <td>1.0</td>\n",
       "      <td>1.0</td>\n",
       "      <td>1.0</td>\n",
       "      <td>NaN</td>\n",
       "      <td>NaN</td>\n",
       "      <td>1.0</td>\n",
       "    </tr>\n",
       "  </tbody>\n",
       "</table>\n",
       "<p>5 rows × 330 columns</p>\n",
       "</div>"
      ],
      "text/plain": [
       "   _STATE  FMONTH        IDATE IMONTH   IDAY    IYEAR  DISPCODE         SEQNO  \\\n",
       "0     1.0     1.0  b'01292015'  b'01'  b'29'  b'2015'    1200.0  2.015000e+09   \n",
       "1     1.0     1.0  b'01202015'  b'01'  b'20'  b'2015'    1100.0  2.015000e+09   \n",
       "2     1.0     1.0  b'02012015'  b'02'  b'01'  b'2015'    1200.0  2.015000e+09   \n",
       "3     1.0     1.0  b'01142015'  b'01'  b'14'  b'2015'    1100.0  2.015000e+09   \n",
       "4     1.0     1.0  b'01142015'  b'01'  b'14'  b'2015'    1100.0  2.015000e+09   \n",
       "\n",
       "           _PSU  CTELENUM  ...  _PAREC1  _PASTAE1  _LMTACT1  _LMTWRK1  \\\n",
       "0  2.015000e+09       1.0  ...      4.0       2.0       1.0       1.0   \n",
       "1  2.015000e+09       1.0  ...      2.0       2.0       3.0       3.0   \n",
       "2  2.015000e+09       1.0  ...      9.0       9.0       9.0       9.0   \n",
       "3  2.015000e+09       1.0  ...      4.0       2.0       1.0       1.0   \n",
       "4  2.015000e+09       1.0  ...      4.0       2.0       1.0       1.0   \n",
       "\n",
       "   _LMTSCL1  _RFSEAT2  _RFSEAT3  _FLSHOT6  _PNEUMO2  _AIDTST3  \n",
       "0       1.0       1.0       1.0       NaN       NaN       1.0  \n",
       "1       4.0       2.0       2.0       NaN       NaN       2.0  \n",
       "2       9.0       9.0       9.0       9.0       9.0       NaN  \n",
       "3       1.0       1.0       1.0       NaN       NaN       9.0  \n",
       "4       1.0       1.0       1.0       NaN       NaN       1.0  \n",
       "\n",
       "[5 rows x 330 columns]"
      ]
     },
     "execution_count": 9,
     "metadata": {},
     "output_type": "execute_result"
    }
   ],
   "source": [
    "#make sure to change the directory according to where your BRFSS is located \n",
    "brfss_df = pd.read_csv(\"2015.csv\")\n",
    "brfss_df.head()"
   ]
  },
  {
   "cell_type": "code",
   "execution_count": 10,
   "id": "873be16a-1a0f-49ba-a1ca-669bcfdd3613",
   "metadata": {},
   "outputs": [],
   "source": [
    "selected_vars = ['DIABETE3', 'SEX','_RFHLTH', '_AGE_G', '_INCOMG', '_RFCHOL', '_EDUCAG', 'FRUTDA1_', 'GRENDAY_', '_RFHYPE5', '_PACAT1', 'CVDSTRK3', '_LTASTH1', 'MARITAL', 'DIFFWALK', '_BMI5CAT', '_RFBING5', 'SMOKE100']"
   ]
  },
  {
   "cell_type": "code",
   "execution_count": 11,
   "id": "56f0564b-b132-408f-8732-c0ad797a27b3",
   "metadata": {},
   "outputs": [
    {
     "name": "stdout",
     "output_type": "stream",
     "text": [
      "<class 'pandas.core.frame.DataFrame'>\n",
      "Index: 254518 entries, 0 to 441455\n",
      "Data columns (total 18 columns):\n",
      " #   Column    Non-Null Count   Dtype  \n",
      "---  ------    --------------   -----  \n",
      " 0   DIABETE3  254518 non-null  float64\n",
      " 1   SEX       254518 non-null  float64\n",
      " 2   _RFHLTH   254518 non-null  float64\n",
      " 3   _AGE_G    254518 non-null  float64\n",
      " 4   _INCOMG   254518 non-null  float64\n",
      " 5   _RFCHOL   224553 non-null  float64\n",
      " 6   _EDUCAG   254518 non-null  float64\n",
      " 7   FRUTDA1_  234163 non-null  float64\n",
      " 8   GRENDAY_  233464 non-null  float64\n",
      " 9   _RFHYPE5  254518 non-null  float64\n",
      " 10  _PACAT1   254518 non-null  float64\n",
      " 11  CVDSTRK3  254518 non-null  float64\n",
      " 12  _LTASTH1  254518 non-null  float64\n",
      " 13  MARITAL   254518 non-null  float64\n",
      " 14  DIFFWALK  247470 non-null  float64\n",
      " 15  _BMI5CAT  225976 non-null  float64\n",
      " 16  _RFBING5  254518 non-null  float64\n",
      " 17  SMOKE100  246419 non-null  float64\n",
      "dtypes: float64(18)\n",
      "memory usage: 36.9 MB\n"
     ]
    }
   ],
   "source": [
    "diabetes_df=brfss_df[selected_vars]\n",
    "diabetes_df = diabetes_df.query('SEX == 2') #we're only going to be working with female respondents \n",
    "diabetes_df.info()"
   ]
  },
  {
   "cell_type": "code",
   "execution_count": 49,
   "id": "cfe524d2-f9f7-4277-a5ce-8678431d605b",
   "metadata": {},
   "outputs": [
    {
     "data": {
      "text/plain": [
       "DIABETE3\n",
       "3.0    214124\n",
       "1.0     31852\n",
       "4.0      4546\n",
       "2.0      3608\n",
       "7.0       295\n",
       "9.0        93\n",
       "Name: count, dtype: int64"
      ]
     },
     "execution_count": 49,
     "metadata": {},
     "output_type": "execute_result"
    }
   ],
   "source": [
    "diabetes_df['DIABETE3'].value_counts()"
   ]
  },
  {
   "cell_type": "code",
   "execution_count": 51,
   "id": "3d2c883c-3702-4031-b3da-f78e8293307e",
   "metadata": {},
   "outputs": [
    {
     "data": {
      "text/plain": [
       "array([3., 1., 4., 2., 7., 9.])"
      ]
     },
     "execution_count": 51,
     "metadata": {},
     "output_type": "execute_result"
    }
   ],
   "source": [
    "diabetes_df['DIABETE3'].unique()"
   ]
  },
  {
   "cell_type": "code",
   "execution_count": 53,
   "id": "83955304-6398-4c55-a2de-31750c510b3f",
   "metadata": {},
   "outputs": [
    {
     "data": {
      "text/plain": [
       "3.0"
      ]
     },
     "execution_count": 53,
     "metadata": {},
     "output_type": "execute_result"
    }
   ],
   "source": [
    "diabetes_df['DIABETE3'].median()"
   ]
  },
  {
   "cell_type": "code",
   "execution_count": 55,
   "id": "b9e5fdf4-959e-440d-9c47-6593381947e3",
   "metadata": {},
   "outputs": [
    {
     "data": {
      "text/plain": [
       "2.7602212810095947"
      ]
     },
     "execution_count": 55,
     "metadata": {},
     "output_type": "execute_result"
    }
   ],
   "source": [
    "diabetes_df['DIABETE3'].mean()"
   ]
  },
  {
   "cell_type": "code",
   "execution_count": null,
   "id": "5b9cd344-8c7f-4a58-9f1e-0659937f75f7",
   "metadata": {},
   "outputs": [],
   "source": [
    "# the 7.0 and 9.0 because it's unsure/refused AND its only 0.153% of the sample\n",
    "# threshold = 5% | 0.05\n"
   ]
  },
  {
   "cell_type": "code",
   "execution_count": 12,
   "id": "3e8d8049-48ae-4c71-b9a1-1e26179eac54",
   "metadata": {},
   "outputs": [
    {
     "data": {
      "text/plain": [
       "_RFCHOL\n",
       "1.0    130461\n",
       "2.0     92088\n",
       "9.0      2004\n",
       "Name: count, dtype: int64"
      ]
     },
     "execution_count": 12,
     "metadata": {},
     "output_type": "execute_result"
    }
   ],
   "source": [
    "#variables that are non-null: \n",
    "# _RFCHOL(weird kasi more than the total entries), FRUTDA1_  ,GRENDAY_  ,DIFFWALK  ,_BMI5CAT  ,SMOKE100  \n",
    "diabetes_df['_RFCHOL'].value_counts()"
   ]
  },
  {
   "cell_type": "code",
   "execution_count": 56,
   "id": "6e56c2c0-8f7c-4eaa-baad-192d3ede3fa2",
   "metadata": {},
   "outputs": [
    {
     "data": {
      "text/plain": [
       "array([ 2.,  1., nan,  9.])"
      ]
     },
     "execution_count": 56,
     "metadata": {},
     "output_type": "execute_result"
    }
   ],
   "source": [
    "diabetes_df['_RFCHOL'].unique()"
   ]
  },
  {
   "cell_type": "code",
   "execution_count": 68,
   "id": "29af87af-9d36-4774-9f9a-ecd2162c88cc",
   "metadata": {},
   "outputs": [
    {
     "data": {
      "text/plain": [
       "FRUTDA1_\n",
       "False    234163\n",
       "True      20355\n",
       "Name: count, dtype: int64"
      ]
     },
     "execution_count": 68,
     "metadata": {},
     "output_type": "execute_result"
    }
   ],
   "source": [
    "diabetes_df['FRUTDA1_'].isnull().value_counts()"
   ]
  },
  {
   "cell_type": "code",
   "execution_count": 17,
   "id": "6d64c853-89b7-4bb1-832f-3fb2031970f3",
   "metadata": {},
   "outputs": [
    {
     "data": {
      "text/plain": [
       "array([3.30000000e+01, 1.70000000e+01,            nan, 1.00000000e+02,\n",
       "       2.00000000e+02, 2.90000000e+01, 1.40000000e+01, 4.30000000e+01,\n",
       "       2.70000000e+01, 5.39760535e-79, 6.70000000e+01, 7.00000000e+00,\n",
       "       5.70000000e+01, 5.00000000e+01, 2.30000000e+01, 8.30000000e+01,\n",
       "       3.00000000e+02, 1.30000000e+01, 1.00000000e+01, 5.00000000e+02,\n",
       "       1.43000000e+02, 7.10000000e+01, 2.00000000e+01, 2.00000000e+00,\n",
       "       8.60000000e+01, 4.00000000e+02, 4.00000000e+01, 4.70000000e+01,\n",
       "       3.00000000e+00, 9.30000000e+01, 9.00000000e+01, 4.29000000e+02,\n",
       "       2.14000000e+02, 8.00000000e+01, 2.17000000e+02, 7.00000000e+01,\n",
       "       9.70000000e+01, 2.86000000e+02, 7.30000000e+01, 8.70000000e+01,\n",
       "       1.67000000e+02, 6.00000000e+01, 1.07000000e+02, 7.70000000e+01,\n",
       "       1.17000000e+02, 1.33000000e+02, 3.00000000e+01, 1.14000000e+02,\n",
       "       6.00000000e+02, 5.30000000e+01, 2.00000000e+03, 7.00000000e+02,\n",
       "       3.57000000e+02, 1.71000000e+02, 8.00000000e+02, 7.14000000e+02,\n",
       "       1.50000000e+02, 1.03000000e+02, 2.07000000e+02, 1.29000000e+02,\n",
       "       3.30000000e+02, 9.00000000e+02, 3.70000000e+01, 1.20000000e+03,\n",
       "       2.67000000e+02, 3.00000000e+03, 1.86000000e+02, 5.00000000e+03,\n",
       "       1.00000000e+03, 1.27000000e+02, 7.20000000e+03, 2.50000000e+02,\n",
       "       3.43000000e+02, 1.40000000e+02, 2.33000000e+02, 1.83000000e+02,\n",
       "       1.87000000e+02, 1.10000000e+02, 6.30000000e+01, 1.57000000e+02,\n",
       "       9.90000000e+03, 1.50000000e+03, 3.14000000e+02, 6.00000000e+03,\n",
       "       1.20000000e+02, 1.80000000e+03, 2.43000000e+02, 2.29000000e+02,\n",
       "       2.57000000e+02, 4.71000000e+02, 7.50000000e+03, 2.50000000e+03,\n",
       "       3.29000000e+02, 4.20000000e+03, 2.10000000e+03, 4.43000000e+02,\n",
       "       1.47000000e+02, 1.40000000e+03, 1.53000000e+02, 2.10000000e+02,\n",
       "       2.20000000e+03, 2.60000000e+03, 3.10000000e+02, 2.83000000e+02,\n",
       "       1.30000000e+03, 2.71000000e+02, 3.17000000e+02, 1.10000000e+03,\n",
       "       2.63000000e+02, 1.13000000e+02, 2.53000000e+02])"
      ]
     },
     "execution_count": 17,
     "metadata": {},
     "output_type": "execute_result"
    }
   ],
   "source": [
    "diabetes_df['FRUTDA1_'].unique()"
   ]
  },
  {
   "cell_type": "code",
   "execution_count": 19,
   "id": "6289084f-2d9e-4884-b509-1b820548bc24",
   "metadata": {},
   "outputs": [
    {
     "data": {
      "text/plain": [
       "GRENDAY_\n",
       "False    233464\n",
       "True      21054\n",
       "Name: count, dtype: int64"
      ]
     },
     "execution_count": 19,
     "metadata": {},
     "output_type": "execute_result"
    }
   ],
   "source": [
    "diabetes_df['GRENDAY_'].isnull().value_counts()"
   ]
  },
  {
   "cell_type": "code",
   "execution_count": 21,
   "id": "e6f07e28-fd8f-4e5b-9f08-6a40d14c10f6",
   "metadata": {},
   "outputs": [
    {
     "data": {
      "text/plain": [
       "array([3.30000000e+01, 2.90000000e+01,            nan, 3.00000000e+00,\n",
       "       5.70000000e+01, 1.00000000e+02, 7.00000000e+00, 1.30000000e+01,\n",
       "       1.70000000e+01, 6.70000000e+01, 4.30000000e+01, 5.39760535e-79,\n",
       "       2.30000000e+01, 5.00000000e+01, 4.00000000e+01, 2.70000000e+01,\n",
       "       1.40000000e+01, 2.00000000e+02, 8.30000000e+01, 7.10000000e+01,\n",
       "       1.00000000e+01, 1.33000000e+02, 2.00000000e+01, 4.70000000e+01,\n",
       "       3.00000000e+02, 8.60000000e+01, 9.70000000e+01, 5.00000000e+02,\n",
       "       4.29000000e+02, 4.00000000e+02, 5.30000000e+01, 6.00000000e+01,\n",
       "       6.30000000e+01, 1.50000000e+02, 8.00000000e+01, 9.30000000e+01,\n",
       "       1.67000000e+02, 3.70000000e+01, 3.00000000e+01, 1.14000000e+02,\n",
       "       7.30000000e+01, 8.70000000e+01, 9.00000000e+01, 2.86000000e+02,\n",
       "       7.00000000e+01, 1.43000000e+02, 2.14000000e+02, 1.71000000e+02,\n",
       "       6.00000000e+02, 1.17000000e+02, 7.70000000e+01, 1.29000000e+02,\n",
       "       1.57000000e+02, 1.03000000e+02, 3.57000000e+02, 1.73000000e+02,\n",
       "       3.30000000e+02, 9.90000000e+03, 1.83000000e+02, 8.00000000e+02,\n",
       "       2.00000000e+03, 1.27000000e+02, 2.33000000e+02, 7.00000000e+02,\n",
       "       1.00000000e+03, 2.67000000e+02, 2.57000000e+02, 2.00000000e+00,\n",
       "       2.50000000e+02, 2.90000000e+02, 1.23000000e+02, 2.29000000e+02,\n",
       "       1.07000000e+02, 2.17000000e+02, 1.20000000e+02, 1.86000000e+02,\n",
       "       3.00000000e+03, 3.86000000e+02, 2.83000000e+02, 1.13000000e+02,\n",
       "       1.50000000e+03, 1.93000000e+02, 1.77000000e+02, 4.71000000e+02,\n",
       "       7.50000000e+03, 3.14000000e+02, 3.29000000e+02, 4.57000000e+02,\n",
       "       9.00000000e+02, 1.60000000e+02, 1.20000000e+03, 1.10000000e+02,\n",
       "       2.20000000e+03, 3.10000000e+02, 3.10000000e+03, 1.10000000e+03,\n",
       "       3.07000000e+02, 1.87000000e+02, 1.37000000e+02, 5.14000000e+02,\n",
       "       2.50000000e+03, 6.57000000e+02, 1.53000000e+02, 1.40000000e+02])"
      ]
     },
     "execution_count": 21,
     "metadata": {},
     "output_type": "execute_result"
    }
   ],
   "source": [
    "diabetes_df['GRENDAY_'].unique()"
   ]
  },
  {
   "cell_type": "code",
   "execution_count": 23,
   "id": "6415ceaf-765b-4fbf-9535-e2600b116753",
   "metadata": {},
   "outputs": [
    {
     "data": {
      "text/plain": [
       "DIFFWALK\n",
       "False    247470\n",
       "True       7048\n",
       "Name: count, dtype: int64"
      ]
     },
     "execution_count": 23,
     "metadata": {},
     "output_type": "execute_result"
    }
   ],
   "source": [
    "diabetes_df['DIFFWALK'].isnull().value_counts()"
   ]
  },
  {
   "cell_type": "code",
   "execution_count": 25,
   "id": "abd048bd-5375-433a-b4cc-ac22f9f96894",
   "metadata": {},
   "outputs": [
    {
     "data": {
      "text/plain": [
       "DIFFWALK\n",
       "2.0    196977\n",
       "1.0     49119\n",
       "7.0       875\n",
       "9.0       499\n",
       "Name: count, dtype: int64"
      ]
     },
     "execution_count": 25,
     "metadata": {},
     "output_type": "execute_result"
    }
   ],
   "source": [
    "diabetes_df['DIFFWALK'].value_counts()"
   ]
  },
  {
   "cell_type": "code",
   "execution_count": 84,
   "id": "0844ca3c-90cc-4fe2-9ea8-72cad93f3d99",
   "metadata": {
    "scrolled": true
   },
   "outputs": [
    {
     "data": {
      "text/plain": [
       "array([ 1.,  2., nan,  7.,  9.])"
      ]
     },
     "execution_count": 84,
     "metadata": {},
     "output_type": "execute_result"
    }
   ],
   "source": [
    "diabetes_df['DIFFWALK'].unique()"
   ]
  },
  {
   "cell_type": "code",
   "execution_count": 27,
   "id": "d857c13b-9150-473f-bd2c-f58bb4490f81",
   "metadata": {},
   "outputs": [
    {
     "data": {
      "text/plain": [
       "_BMI5CAT\n",
       "False    225976\n",
       "True      28542\n",
       "Name: count, dtype: int64"
      ]
     },
     "execution_count": 27,
     "metadata": {},
     "output_type": "execute_result"
    }
   ],
   "source": [
    "diabetes_df['_BMI5CAT'].isnull().value_counts()"
   ]
  },
  {
   "cell_type": "code",
   "execution_count": 29,
   "id": "cb8f9d82-4bda-4325-bf9a-12ec11559906",
   "metadata": {},
   "outputs": [
    {
     "data": {
      "text/plain": [
       "_BMI5CAT\n",
       "2.0    84884\n",
       "3.0    70190\n",
       "4.0    65846\n",
       "1.0     5056\n",
       "Name: count, dtype: int64"
      ]
     },
     "execution_count": 29,
     "metadata": {},
     "output_type": "execute_result"
    }
   ],
   "source": [
    "diabetes_df['_BMI5CAT'].value_counts()"
   ]
  },
  {
   "cell_type": "code",
   "execution_count": 33,
   "id": "e3ce6e5e-ad1c-4234-b95b-154e9db9d44e",
   "metadata": {},
   "outputs": [
    {
     "data": {
      "text/plain": [
       "array([ 4.,  3.,  2.,  1., nan])"
      ]
     },
     "execution_count": 33,
     "metadata": {},
     "output_type": "execute_result"
    }
   ],
   "source": [
    "diabetes_df['_BMI5CAT'].unique()"
   ]
  },
  {
   "cell_type": "code",
   "execution_count": 35,
   "id": "46aa176d-1df4-4ad4-8e59-a9575d6e9d0a",
   "metadata": {},
   "outputs": [
    {
     "data": {
      "text/plain": [
       "SMOKE100\n",
       "False    246419\n",
       "True       8099\n",
       "Name: count, dtype: int64"
      ]
     },
     "execution_count": 35,
     "metadata": {},
     "output_type": "execute_result"
    }
   ],
   "source": [
    "diabetes_df['SMOKE100'].isnull().value_counts()"
   ]
  },
  {
   "cell_type": "code",
   "execution_count": 37,
   "id": "939324a6-1425-45a9-819f-1a6b9cfb61a1",
   "metadata": {},
   "outputs": [
    {
     "data": {
      "text/plain": [
       "SMOKE100\n",
       "2.0    149366\n",
       "1.0     95249\n",
       "7.0      1081\n",
       "9.0       723\n",
       "Name: count, dtype: int64"
      ]
     },
     "execution_count": 37,
     "metadata": {},
     "output_type": "execute_result"
    }
   ],
   "source": [
    "diabetes_df['SMOKE100'].value_counts()"
   ]
  },
  {
   "cell_type": "code",
   "execution_count": 39,
   "id": "41af0b4c-d900-4c8d-a0ce-47727c0ebf2e",
   "metadata": {},
   "outputs": [
    {
     "data": {
      "text/plain": [
       "array([ 1., nan,  2.,  7.,  9.])"
      ]
     },
     "execution_count": 39,
     "metadata": {},
     "output_type": "execute_result"
    }
   ],
   "source": [
    "diabetes_df['SMOKE100'].unique()"
   ]
  }
 ],
 "metadata": {
  "kernelspec": {
   "display_name": "Python 3 (ipykernel)",
   "language": "python",
   "name": "python3"
  },
  "language_info": {
   "codemirror_mode": {
    "name": "ipython",
    "version": 3
   },
   "file_extension": ".py",
   "mimetype": "text/x-python",
   "name": "python",
   "nbconvert_exporter": "python",
   "pygments_lexer": "ipython3",
   "version": "3.11.7"
  }
 },
 "nbformat": 4,
 "nbformat_minor": 5
}
