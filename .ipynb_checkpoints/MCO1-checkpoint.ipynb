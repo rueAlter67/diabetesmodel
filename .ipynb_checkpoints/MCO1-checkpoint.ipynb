{
 "cells": [
  {
   "cell_type": "markdown",
   "id": "51c4fefa-9cd3-4a63-a71c-992ee4df1a92",
   "metadata": {},
   "source": [
    "# Machine Project\n",
    "This is the start of the project"
   ]
  },
  {
   "cell_type": "code",
   "execution_count": 106,
   "id": "213c2597-4198-49d4-b366-467e6322ef80",
   "metadata": {},
   "outputs": [],
   "source": [
    "import os #to check working directory\n",
    "import numpy as py\n",
    "import pandas as pd\n",
    "import matplotlib.pyplot as plt"
   ]
  },
  {
   "cell_type": "code",
   "execution_count": 107,
   "id": "495191b8-5842-41d5-8382-09c5520b0174",
   "metadata": {
    "scrolled": true
   },
   "outputs": [
    {
     "data": {
      "text/plain": [
       "'C:\\\\Users\\\\goosg\\\\OneDrive\\\\Documents\\\\GitHub\\\\diabetesmodel'"
      ]
     },
     "execution_count": 107,
     "metadata": {},
     "output_type": "execute_result"
    }
   ],
   "source": [
    "path = os.getcwd()  #in case your database isn't in the same folder as your notebook\n",
    "path"
   ]
  },
  {
   "cell_type": "code",
   "execution_count": 165,
   "id": "f3bcf373-27c2-46d1-a1ed-40652384577b",
   "metadata": {},
   "outputs": [
    {
     "ename": "FileNotFoundError",
     "evalue": "[Errno 2] No such file or directory: '2015.csv'",
     "output_type": "error",
     "traceback": [
      "\u001b[1;31m---------------------------------------------------------------------------\u001b[0m",
      "\u001b[1;31mFileNotFoundError\u001b[0m                         Traceback (most recent call last)",
      "Cell \u001b[1;32mIn[165], line 4\u001b[0m\n\u001b[0;32m      1\u001b[0m \u001b[38;5;66;03m#make sure to change the directory according to where your BRFSS is located \u001b[39;00m\n\u001b[0;32m      2\u001b[0m \u001b[38;5;66;03m#file_path = r'insert file location of BRFSS here' \u001b[39;00m\n\u001b[0;32m      3\u001b[0m \u001b[38;5;66;03m#brfss_df = pd.read_csv(file_path)\u001b[39;00m\n\u001b[1;32m----> 4\u001b[0m brfss_df \u001b[38;5;241m=\u001b[39m \u001b[43mpd\u001b[49m\u001b[38;5;241;43m.\u001b[39;49m\u001b[43mread_csv\u001b[49m\u001b[43m(\u001b[49m\u001b[38;5;124;43m\"\u001b[39;49m\u001b[38;5;124;43m2015.csv\u001b[39;49m\u001b[38;5;124;43m\"\u001b[39;49m\u001b[43m)\u001b[49m\n\u001b[0;32m      5\u001b[0m brfss_df\u001b[38;5;241m.\u001b[39mhead()\n",
      "File \u001b[1;32m~\\AppData\\Local\\Programs\\Python\\Python312\\Lib\\site-packages\\pandas\\io\\parsers\\readers.py:1026\u001b[0m, in \u001b[0;36mread_csv\u001b[1;34m(filepath_or_buffer, sep, delimiter, header, names, index_col, usecols, dtype, engine, converters, true_values, false_values, skipinitialspace, skiprows, skipfooter, nrows, na_values, keep_default_na, na_filter, verbose, skip_blank_lines, parse_dates, infer_datetime_format, keep_date_col, date_parser, date_format, dayfirst, cache_dates, iterator, chunksize, compression, thousands, decimal, lineterminator, quotechar, quoting, doublequote, escapechar, comment, encoding, encoding_errors, dialect, on_bad_lines, delim_whitespace, low_memory, memory_map, float_precision, storage_options, dtype_backend)\u001b[0m\n\u001b[0;32m   1013\u001b[0m kwds_defaults \u001b[38;5;241m=\u001b[39m _refine_defaults_read(\n\u001b[0;32m   1014\u001b[0m     dialect,\n\u001b[0;32m   1015\u001b[0m     delimiter,\n\u001b[1;32m   (...)\u001b[0m\n\u001b[0;32m   1022\u001b[0m     dtype_backend\u001b[38;5;241m=\u001b[39mdtype_backend,\n\u001b[0;32m   1023\u001b[0m )\n\u001b[0;32m   1024\u001b[0m kwds\u001b[38;5;241m.\u001b[39mupdate(kwds_defaults)\n\u001b[1;32m-> 1026\u001b[0m \u001b[38;5;28;01mreturn\u001b[39;00m \u001b[43m_read\u001b[49m\u001b[43m(\u001b[49m\u001b[43mfilepath_or_buffer\u001b[49m\u001b[43m,\u001b[49m\u001b[43m \u001b[49m\u001b[43mkwds\u001b[49m\u001b[43m)\u001b[49m\n",
      "File \u001b[1;32m~\\AppData\\Local\\Programs\\Python\\Python312\\Lib\\site-packages\\pandas\\io\\parsers\\readers.py:620\u001b[0m, in \u001b[0;36m_read\u001b[1;34m(filepath_or_buffer, kwds)\u001b[0m\n\u001b[0;32m    617\u001b[0m _validate_names(kwds\u001b[38;5;241m.\u001b[39mget(\u001b[38;5;124m\"\u001b[39m\u001b[38;5;124mnames\u001b[39m\u001b[38;5;124m\"\u001b[39m, \u001b[38;5;28;01mNone\u001b[39;00m))\n\u001b[0;32m    619\u001b[0m \u001b[38;5;66;03m# Create the parser.\u001b[39;00m\n\u001b[1;32m--> 620\u001b[0m parser \u001b[38;5;241m=\u001b[39m \u001b[43mTextFileReader\u001b[49m\u001b[43m(\u001b[49m\u001b[43mfilepath_or_buffer\u001b[49m\u001b[43m,\u001b[49m\u001b[43m \u001b[49m\u001b[38;5;241;43m*\u001b[39;49m\u001b[38;5;241;43m*\u001b[39;49m\u001b[43mkwds\u001b[49m\u001b[43m)\u001b[49m\n\u001b[0;32m    622\u001b[0m \u001b[38;5;28;01mif\u001b[39;00m chunksize \u001b[38;5;129;01mor\u001b[39;00m iterator:\n\u001b[0;32m    623\u001b[0m     \u001b[38;5;28;01mreturn\u001b[39;00m parser\n",
      "File \u001b[1;32m~\\AppData\\Local\\Programs\\Python\\Python312\\Lib\\site-packages\\pandas\\io\\parsers\\readers.py:1620\u001b[0m, in \u001b[0;36mTextFileReader.__init__\u001b[1;34m(self, f, engine, **kwds)\u001b[0m\n\u001b[0;32m   1617\u001b[0m     \u001b[38;5;28mself\u001b[39m\u001b[38;5;241m.\u001b[39moptions[\u001b[38;5;124m\"\u001b[39m\u001b[38;5;124mhas_index_names\u001b[39m\u001b[38;5;124m\"\u001b[39m] \u001b[38;5;241m=\u001b[39m kwds[\u001b[38;5;124m\"\u001b[39m\u001b[38;5;124mhas_index_names\u001b[39m\u001b[38;5;124m\"\u001b[39m]\n\u001b[0;32m   1619\u001b[0m \u001b[38;5;28mself\u001b[39m\u001b[38;5;241m.\u001b[39mhandles: IOHandles \u001b[38;5;241m|\u001b[39m \u001b[38;5;28;01mNone\u001b[39;00m \u001b[38;5;241m=\u001b[39m \u001b[38;5;28;01mNone\u001b[39;00m\n\u001b[1;32m-> 1620\u001b[0m \u001b[38;5;28mself\u001b[39m\u001b[38;5;241m.\u001b[39m_engine \u001b[38;5;241m=\u001b[39m \u001b[38;5;28;43mself\u001b[39;49m\u001b[38;5;241;43m.\u001b[39;49m\u001b[43m_make_engine\u001b[49m\u001b[43m(\u001b[49m\u001b[43mf\u001b[49m\u001b[43m,\u001b[49m\u001b[43m \u001b[49m\u001b[38;5;28;43mself\u001b[39;49m\u001b[38;5;241;43m.\u001b[39;49m\u001b[43mengine\u001b[49m\u001b[43m)\u001b[49m\n",
      "File \u001b[1;32m~\\AppData\\Local\\Programs\\Python\\Python312\\Lib\\site-packages\\pandas\\io\\parsers\\readers.py:1880\u001b[0m, in \u001b[0;36mTextFileReader._make_engine\u001b[1;34m(self, f, engine)\u001b[0m\n\u001b[0;32m   1878\u001b[0m     \u001b[38;5;28;01mif\u001b[39;00m \u001b[38;5;124m\"\u001b[39m\u001b[38;5;124mb\u001b[39m\u001b[38;5;124m\"\u001b[39m \u001b[38;5;129;01mnot\u001b[39;00m \u001b[38;5;129;01min\u001b[39;00m mode:\n\u001b[0;32m   1879\u001b[0m         mode \u001b[38;5;241m+\u001b[39m\u001b[38;5;241m=\u001b[39m \u001b[38;5;124m\"\u001b[39m\u001b[38;5;124mb\u001b[39m\u001b[38;5;124m\"\u001b[39m\n\u001b[1;32m-> 1880\u001b[0m \u001b[38;5;28mself\u001b[39m\u001b[38;5;241m.\u001b[39mhandles \u001b[38;5;241m=\u001b[39m \u001b[43mget_handle\u001b[49m\u001b[43m(\u001b[49m\n\u001b[0;32m   1881\u001b[0m \u001b[43m    \u001b[49m\u001b[43mf\u001b[49m\u001b[43m,\u001b[49m\n\u001b[0;32m   1882\u001b[0m \u001b[43m    \u001b[49m\u001b[43mmode\u001b[49m\u001b[43m,\u001b[49m\n\u001b[0;32m   1883\u001b[0m \u001b[43m    \u001b[49m\u001b[43mencoding\u001b[49m\u001b[38;5;241;43m=\u001b[39;49m\u001b[38;5;28;43mself\u001b[39;49m\u001b[38;5;241;43m.\u001b[39;49m\u001b[43moptions\u001b[49m\u001b[38;5;241;43m.\u001b[39;49m\u001b[43mget\u001b[49m\u001b[43m(\u001b[49m\u001b[38;5;124;43m\"\u001b[39;49m\u001b[38;5;124;43mencoding\u001b[39;49m\u001b[38;5;124;43m\"\u001b[39;49m\u001b[43m,\u001b[49m\u001b[43m \u001b[49m\u001b[38;5;28;43;01mNone\u001b[39;49;00m\u001b[43m)\u001b[49m\u001b[43m,\u001b[49m\n\u001b[0;32m   1884\u001b[0m \u001b[43m    \u001b[49m\u001b[43mcompression\u001b[49m\u001b[38;5;241;43m=\u001b[39;49m\u001b[38;5;28;43mself\u001b[39;49m\u001b[38;5;241;43m.\u001b[39;49m\u001b[43moptions\u001b[49m\u001b[38;5;241;43m.\u001b[39;49m\u001b[43mget\u001b[49m\u001b[43m(\u001b[49m\u001b[38;5;124;43m\"\u001b[39;49m\u001b[38;5;124;43mcompression\u001b[39;49m\u001b[38;5;124;43m\"\u001b[39;49m\u001b[43m,\u001b[49m\u001b[43m \u001b[49m\u001b[38;5;28;43;01mNone\u001b[39;49;00m\u001b[43m)\u001b[49m\u001b[43m,\u001b[49m\n\u001b[0;32m   1885\u001b[0m \u001b[43m    \u001b[49m\u001b[43mmemory_map\u001b[49m\u001b[38;5;241;43m=\u001b[39;49m\u001b[38;5;28;43mself\u001b[39;49m\u001b[38;5;241;43m.\u001b[39;49m\u001b[43moptions\u001b[49m\u001b[38;5;241;43m.\u001b[39;49m\u001b[43mget\u001b[49m\u001b[43m(\u001b[49m\u001b[38;5;124;43m\"\u001b[39;49m\u001b[38;5;124;43mmemory_map\u001b[39;49m\u001b[38;5;124;43m\"\u001b[39;49m\u001b[43m,\u001b[49m\u001b[43m \u001b[49m\u001b[38;5;28;43;01mFalse\u001b[39;49;00m\u001b[43m)\u001b[49m\u001b[43m,\u001b[49m\n\u001b[0;32m   1886\u001b[0m \u001b[43m    \u001b[49m\u001b[43mis_text\u001b[49m\u001b[38;5;241;43m=\u001b[39;49m\u001b[43mis_text\u001b[49m\u001b[43m,\u001b[49m\n\u001b[0;32m   1887\u001b[0m \u001b[43m    \u001b[49m\u001b[43merrors\u001b[49m\u001b[38;5;241;43m=\u001b[39;49m\u001b[38;5;28;43mself\u001b[39;49m\u001b[38;5;241;43m.\u001b[39;49m\u001b[43moptions\u001b[49m\u001b[38;5;241;43m.\u001b[39;49m\u001b[43mget\u001b[49m\u001b[43m(\u001b[49m\u001b[38;5;124;43m\"\u001b[39;49m\u001b[38;5;124;43mencoding_errors\u001b[39;49m\u001b[38;5;124;43m\"\u001b[39;49m\u001b[43m,\u001b[49m\u001b[43m \u001b[49m\u001b[38;5;124;43m\"\u001b[39;49m\u001b[38;5;124;43mstrict\u001b[39;49m\u001b[38;5;124;43m\"\u001b[39;49m\u001b[43m)\u001b[49m\u001b[43m,\u001b[49m\n\u001b[0;32m   1888\u001b[0m \u001b[43m    \u001b[49m\u001b[43mstorage_options\u001b[49m\u001b[38;5;241;43m=\u001b[39;49m\u001b[38;5;28;43mself\u001b[39;49m\u001b[38;5;241;43m.\u001b[39;49m\u001b[43moptions\u001b[49m\u001b[38;5;241;43m.\u001b[39;49m\u001b[43mget\u001b[49m\u001b[43m(\u001b[49m\u001b[38;5;124;43m\"\u001b[39;49m\u001b[38;5;124;43mstorage_options\u001b[39;49m\u001b[38;5;124;43m\"\u001b[39;49m\u001b[43m,\u001b[49m\u001b[43m \u001b[49m\u001b[38;5;28;43;01mNone\u001b[39;49;00m\u001b[43m)\u001b[49m\u001b[43m,\u001b[49m\n\u001b[0;32m   1889\u001b[0m \u001b[43m\u001b[49m\u001b[43m)\u001b[49m\n\u001b[0;32m   1890\u001b[0m \u001b[38;5;28;01massert\u001b[39;00m \u001b[38;5;28mself\u001b[39m\u001b[38;5;241m.\u001b[39mhandles \u001b[38;5;129;01mis\u001b[39;00m \u001b[38;5;129;01mnot\u001b[39;00m \u001b[38;5;28;01mNone\u001b[39;00m\n\u001b[0;32m   1891\u001b[0m f \u001b[38;5;241m=\u001b[39m \u001b[38;5;28mself\u001b[39m\u001b[38;5;241m.\u001b[39mhandles\u001b[38;5;241m.\u001b[39mhandle\n",
      "File \u001b[1;32m~\\AppData\\Local\\Programs\\Python\\Python312\\Lib\\site-packages\\pandas\\io\\common.py:873\u001b[0m, in \u001b[0;36mget_handle\u001b[1;34m(path_or_buf, mode, encoding, compression, memory_map, is_text, errors, storage_options)\u001b[0m\n\u001b[0;32m    868\u001b[0m \u001b[38;5;28;01melif\u001b[39;00m \u001b[38;5;28misinstance\u001b[39m(handle, \u001b[38;5;28mstr\u001b[39m):\n\u001b[0;32m    869\u001b[0m     \u001b[38;5;66;03m# Check whether the filename is to be opened in binary mode.\u001b[39;00m\n\u001b[0;32m    870\u001b[0m     \u001b[38;5;66;03m# Binary mode does not support 'encoding' and 'newline'.\u001b[39;00m\n\u001b[0;32m    871\u001b[0m     \u001b[38;5;28;01mif\u001b[39;00m ioargs\u001b[38;5;241m.\u001b[39mencoding \u001b[38;5;129;01mand\u001b[39;00m \u001b[38;5;124m\"\u001b[39m\u001b[38;5;124mb\u001b[39m\u001b[38;5;124m\"\u001b[39m \u001b[38;5;129;01mnot\u001b[39;00m \u001b[38;5;129;01min\u001b[39;00m ioargs\u001b[38;5;241m.\u001b[39mmode:\n\u001b[0;32m    872\u001b[0m         \u001b[38;5;66;03m# Encoding\u001b[39;00m\n\u001b[1;32m--> 873\u001b[0m         handle \u001b[38;5;241m=\u001b[39m \u001b[38;5;28;43mopen\u001b[39;49m\u001b[43m(\u001b[49m\n\u001b[0;32m    874\u001b[0m \u001b[43m            \u001b[49m\u001b[43mhandle\u001b[49m\u001b[43m,\u001b[49m\n\u001b[0;32m    875\u001b[0m \u001b[43m            \u001b[49m\u001b[43mioargs\u001b[49m\u001b[38;5;241;43m.\u001b[39;49m\u001b[43mmode\u001b[49m\u001b[43m,\u001b[49m\n\u001b[0;32m    876\u001b[0m \u001b[43m            \u001b[49m\u001b[43mencoding\u001b[49m\u001b[38;5;241;43m=\u001b[39;49m\u001b[43mioargs\u001b[49m\u001b[38;5;241;43m.\u001b[39;49m\u001b[43mencoding\u001b[49m\u001b[43m,\u001b[49m\n\u001b[0;32m    877\u001b[0m \u001b[43m            \u001b[49m\u001b[43merrors\u001b[49m\u001b[38;5;241;43m=\u001b[39;49m\u001b[43merrors\u001b[49m\u001b[43m,\u001b[49m\n\u001b[0;32m    878\u001b[0m \u001b[43m            \u001b[49m\u001b[43mnewline\u001b[49m\u001b[38;5;241;43m=\u001b[39;49m\u001b[38;5;124;43m\"\u001b[39;49m\u001b[38;5;124;43m\"\u001b[39;49m\u001b[43m,\u001b[49m\n\u001b[0;32m    879\u001b[0m \u001b[43m        \u001b[49m\u001b[43m)\u001b[49m\n\u001b[0;32m    880\u001b[0m     \u001b[38;5;28;01melse\u001b[39;00m:\n\u001b[0;32m    881\u001b[0m         \u001b[38;5;66;03m# Binary mode\u001b[39;00m\n\u001b[0;32m    882\u001b[0m         handle \u001b[38;5;241m=\u001b[39m \u001b[38;5;28mopen\u001b[39m(handle, ioargs\u001b[38;5;241m.\u001b[39mmode)\n",
      "\u001b[1;31mFileNotFoundError\u001b[0m: [Errno 2] No such file or directory: '2015.csv'"
     ]
    }
   ],
   "source": [
    "#make sure to change the directory according to where your BRFSS is located \n",
    "#file_path = r'insert file location of BRFSS here' \n",
    "#brfss_df = pd.read_csv(file_path)\n",
    "brfss_df = pd.read_csv(\"2015.csv\")\n",
    "brfss_df.head()"
   ]
  },
  {
   "cell_type": "code",
   "execution_count": 109,
   "id": "873be16a-1a0f-49ba-a1ca-669bcfdd3613",
   "metadata": {},
   "outputs": [],
   "source": [
    "selected_vars = ['DIABETE3', 'SEX','_RFHLTH', '_AGE_G', '_INCOMG', '_RFCHOL', '_EDUCAG', 'FRUTDA1_', 'GRENDAY_', '_RFHYPE5', '_PACAT1', 'CVDSTRK3', '_LTASTH1', 'MARITAL', 'DIFFWALK', '_BMI5CAT', '_RFBING5', 'SMOKE100']"
   ]
  },
  {
   "cell_type": "code",
   "execution_count": 110,
   "id": "56f0564b-b132-408f-8732-c0ad797a27b3",
   "metadata": {},
   "outputs": [
    {
     "name": "stdout",
     "output_type": "stream",
     "text": [
      "<class 'pandas.core.frame.DataFrame'>\n",
      "Index: 254518 entries, 0 to 441455\n",
      "Data columns (total 18 columns):\n",
      " #   Column    Non-Null Count   Dtype  \n",
      "---  ------    --------------   -----  \n",
      " 0   DIABETE3  254518 non-null  float64\n",
      " 1   SEX       254518 non-null  float64\n",
      " 2   _RFHLTH   254518 non-null  float64\n",
      " 3   _AGE_G    254518 non-null  float64\n",
      " 4   _INCOMG   254518 non-null  float64\n",
      " 5   _RFCHOL   224553 non-null  float64\n",
      " 6   _EDUCAG   254518 non-null  float64\n",
      " 7   FRUTDA1_  234163 non-null  float64\n",
      " 8   GRENDAY_  233464 non-null  float64\n",
      " 9   _RFHYPE5  254518 non-null  float64\n",
      " 10  _PACAT1   254518 non-null  float64\n",
      " 11  CVDSTRK3  254518 non-null  float64\n",
      " 12  _LTASTH1  254518 non-null  float64\n",
      " 13  MARITAL   254518 non-null  float64\n",
      " 14  DIFFWALK  247470 non-null  float64\n",
      " 15  _BMI5CAT  225976 non-null  float64\n",
      " 16  _RFBING5  254518 non-null  float64\n",
      " 17  SMOKE100  246419 non-null  float64\n",
      "dtypes: float64(18)\n",
      "memory usage: 36.9 MB\n"
     ]
    }
   ],
   "source": [
    "diabetes_df=brfss_df[selected_vars]\n",
    "diabetes_df = diabetes_df.query('SEX == 2') #we're only going to be working with female respondents \n",
    "diabetes_df.info()"
   ]
  },
  {
   "cell_type": "code",
   "execution_count": 111,
   "id": "cfe524d2-f9f7-4277-a5ce-8678431d605b",
   "metadata": {},
   "outputs": [
    {
     "data": {
      "text/plain": [
       "DIABETE3\n",
       "3    214124\n",
       "1     31852\n",
       "4      4546\n",
       "2      3608\n",
       "7       295\n",
       "9        93\n",
       "Name: count, dtype: int64"
      ]
     },
     "execution_count": 111,
     "metadata": {},
     "output_type": "execute_result"
    }
   ],
   "source": [
    "#changing the diabete3 to int \n",
    "diabetes_df['DIABETE3'] = diabetes_df['DIABETE3'].astype(int)\n",
    "median = diabetes_df['DIABETE3'].median()\n",
    "diabe3_mean = diabetes_df['DIABETE3'].mean()\n",
    "diabetes_df['DIABETE3'].value_counts()"
   ]
  },
  {
   "cell_type": "code",
   "execution_count": 112,
   "id": "5b9cd344-8c7f-4a58-9f1e-0659937f75f7",
   "metadata": {},
   "outputs": [
    {
     "data": {
      "text/plain": [
       "DIABETE3\n",
       "3    214512\n",
       "1     31852\n",
       "4      4546\n",
       "2      3608\n",
       "Name: count, dtype: int64"
      ]
     },
     "execution_count": 112,
     "metadata": {},
     "output_type": "execute_result"
    }
   ],
   "source": [
    "# the 7 and 9 because it's unsure/refused AND its only 0.153% of the sample\n",
    "# threshold = 5% | 0.05, so we imputate using the median value\n",
    "\n",
    "diabetes_df['DIABETE3']=diabetes_df['DIABETE3'].replace({7: median, 9: median,})\n",
    "diabetes_df['DIABETE3'].value_counts()"
   ]
  },
  {
   "cell_type": "code",
   "execution_count": 130,
   "id": "ae022f31-0dd1-4cdb-84c7-6f5721a3ac21",
   "metadata": {
    "scrolled": true
   },
   "outputs": [
    {
     "data": {
      "text/plain": [
       "DIABETE3\n",
       "0    219058\n",
       "1     31852\n",
       "2      3608\n",
       "Name: count, dtype: int64"
      ]
     },
     "execution_count": 130,
     "metadata": {},
     "output_type": "execute_result"
    }
   ],
   "source": [
    "# retain 1 and 2 on the data make 3 and 4 as 0 (no diabetes)\n",
    "diabetes_df['DIABETE3']=diabetes_df['DIABETE3'].replace({3: 0,4:0})\n",
    "diabetes_df['DIABETE3'].value_counts()"
   ]
  },
  {
   "cell_type": "code",
   "execution_count": 164,
   "id": "8a44bef4-ecd7-45aa-b170-206a22303dad",
   "metadata": {},
   "outputs": [],
   "source": [
    "# get null columns and store in a dictionary\n",
    "null_columns = diabetes_df.columns[diabetes_df.isnull().any()]\n",
    "null_rows_per_column = {}\n",
    "\n",
    "# iterate over each column to count null variables per col\n",
    "for col in null_columns:\n",
    "    # count null values in col\n",
    "    null_count = diabetes_df[col].isnull().sum()\n",
    "    \n",
    "    # count value counts of all non-null values\n",
    "    #value_count = diabetes_df[col].value_counts(dropna=True)\n",
    "    \n",
    "    # display unique values\n",
    "    #unique = diabetes_df[col].unique()\n",
    "\n",
    "    # calculate column mean and impute into the place of null values\n",
    "    col_mean = diabetes_df[col].mean()\n",
    "    diabetes_df[col].fillna(col_mean, inplace=True)\n",
    "    \n",
    "    # store count in dictionary, can add more properties here if necessary\n",
    "    null_rows_per_column[col] = {\n",
    "        'null_count': null_count,\n",
    "        'imputed_mean': col_mean\n",
    "    }\n",
    "\n",
    "# print results, can add more properties here if necessary\n",
    "for col, info in null_rows_per_column.items():\n",
    "    print(f\"col '{col}' has {info['null_count']} null rows\")\n",
    "    print(f\"imputed mean '{col}' = {info['imputed_mean']}\")"
   ]
  },
  {
   "cell_type": "code",
   "execution_count": 147,
   "id": "3e8d8049-48ae-4c71-b9a1-1e26179eac54",
   "metadata": {},
   "outputs": [
    {
     "data": {
      "text/plain": [
       "_RFCHOL\n",
       "1.0    130461\n",
       "2.0     92088\n",
       "9.0      2004\n",
       "Name: count, dtype: int64"
      ]
     },
     "execution_count": 147,
     "metadata": {},
     "output_type": "execute_result"
    }
   ],
   "source": [
    "diabetes_df['_RFCHOL'].value_counts()"
   ]
  },
  {
   "cell_type": "code",
   "execution_count": 133,
   "id": "6e56c2c0-8f7c-4eaa-baad-192d3ede3fa2",
   "metadata": {},
   "outputs": [
    {
     "data": {
      "text/plain": [
       "array([ 2.,  1., nan,  9.])"
      ]
     },
     "execution_count": 133,
     "metadata": {},
     "output_type": "execute_result"
    }
   ],
   "source": [
    "diabetes_df['_RFCHOL'].unique()"
   ]
  },
  {
   "cell_type": "code",
   "execution_count": 135,
   "id": "6d64c853-89b7-4bb1-832f-3fb2031970f3",
   "metadata": {},
   "outputs": [
    {
     "data": {
      "text/plain": [
       "array([3.30000000e+01, 1.70000000e+01,            nan, 1.00000000e+02,\n",
       "       2.00000000e+02, 2.90000000e+01, 1.40000000e+01, 4.30000000e+01,\n",
       "       2.70000000e+01, 5.39760535e-79, 6.70000000e+01, 7.00000000e+00,\n",
       "       5.70000000e+01, 5.00000000e+01, 2.30000000e+01, 8.30000000e+01,\n",
       "       3.00000000e+02, 1.30000000e+01, 1.00000000e+01, 5.00000000e+02,\n",
       "       1.43000000e+02, 7.10000000e+01, 2.00000000e+01, 2.00000000e+00,\n",
       "       8.60000000e+01, 4.00000000e+02, 4.00000000e+01, 4.70000000e+01,\n",
       "       3.00000000e+00, 9.30000000e+01, 9.00000000e+01, 4.29000000e+02,\n",
       "       2.14000000e+02, 8.00000000e+01, 2.17000000e+02, 7.00000000e+01,\n",
       "       9.70000000e+01, 2.86000000e+02, 7.30000000e+01, 8.70000000e+01,\n",
       "       1.67000000e+02, 6.00000000e+01, 1.07000000e+02, 7.70000000e+01,\n",
       "       1.17000000e+02, 1.33000000e+02, 3.00000000e+01, 1.14000000e+02,\n",
       "       6.00000000e+02, 5.30000000e+01, 2.00000000e+03, 7.00000000e+02,\n",
       "       3.57000000e+02, 1.71000000e+02, 8.00000000e+02, 7.14000000e+02,\n",
       "       1.50000000e+02, 1.03000000e+02, 2.07000000e+02, 1.29000000e+02,\n",
       "       3.30000000e+02, 9.00000000e+02, 3.70000000e+01, 1.20000000e+03,\n",
       "       2.67000000e+02, 3.00000000e+03, 1.86000000e+02, 5.00000000e+03,\n",
       "       1.00000000e+03, 1.27000000e+02, 7.20000000e+03, 2.50000000e+02,\n",
       "       3.43000000e+02, 1.40000000e+02, 2.33000000e+02, 1.83000000e+02,\n",
       "       1.87000000e+02, 1.10000000e+02, 6.30000000e+01, 1.57000000e+02,\n",
       "       9.90000000e+03, 1.50000000e+03, 3.14000000e+02, 6.00000000e+03,\n",
       "       1.20000000e+02, 1.80000000e+03, 2.43000000e+02, 2.29000000e+02,\n",
       "       2.57000000e+02, 4.71000000e+02, 7.50000000e+03, 2.50000000e+03,\n",
       "       3.29000000e+02, 4.20000000e+03, 2.10000000e+03, 4.43000000e+02,\n",
       "       1.47000000e+02, 1.40000000e+03, 1.53000000e+02, 2.10000000e+02,\n",
       "       2.20000000e+03, 2.60000000e+03, 3.10000000e+02, 2.83000000e+02,\n",
       "       1.30000000e+03, 2.71000000e+02, 3.17000000e+02, 1.10000000e+03,\n",
       "       2.63000000e+02, 1.13000000e+02, 2.53000000e+02])"
      ]
     },
     "execution_count": 135,
     "metadata": {},
     "output_type": "execute_result"
    }
   ],
   "source": [
    "diabetes_df['FRUTDA1_'].unique()"
   ]
  },
  {
   "cell_type": "code",
   "execution_count": 137,
   "id": "e6f07e28-fd8f-4e5b-9f08-6a40d14c10f6",
   "metadata": {},
   "outputs": [
    {
     "data": {
      "text/plain": [
       "array([3.30000000e+01, 2.90000000e+01,            nan, 3.00000000e+00,\n",
       "       5.70000000e+01, 1.00000000e+02, 7.00000000e+00, 1.30000000e+01,\n",
       "       1.70000000e+01, 6.70000000e+01, 4.30000000e+01, 5.39760535e-79,\n",
       "       2.30000000e+01, 5.00000000e+01, 4.00000000e+01, 2.70000000e+01,\n",
       "       1.40000000e+01, 2.00000000e+02, 8.30000000e+01, 7.10000000e+01,\n",
       "       1.00000000e+01, 1.33000000e+02, 2.00000000e+01, 4.70000000e+01,\n",
       "       3.00000000e+02, 8.60000000e+01, 9.70000000e+01, 5.00000000e+02,\n",
       "       4.29000000e+02, 4.00000000e+02, 5.30000000e+01, 6.00000000e+01,\n",
       "       6.30000000e+01, 1.50000000e+02, 8.00000000e+01, 9.30000000e+01,\n",
       "       1.67000000e+02, 3.70000000e+01, 3.00000000e+01, 1.14000000e+02,\n",
       "       7.30000000e+01, 8.70000000e+01, 9.00000000e+01, 2.86000000e+02,\n",
       "       7.00000000e+01, 1.43000000e+02, 2.14000000e+02, 1.71000000e+02,\n",
       "       6.00000000e+02, 1.17000000e+02, 7.70000000e+01, 1.29000000e+02,\n",
       "       1.57000000e+02, 1.03000000e+02, 3.57000000e+02, 1.73000000e+02,\n",
       "       3.30000000e+02, 9.90000000e+03, 1.83000000e+02, 8.00000000e+02,\n",
       "       2.00000000e+03, 1.27000000e+02, 2.33000000e+02, 7.00000000e+02,\n",
       "       1.00000000e+03, 2.67000000e+02, 2.57000000e+02, 2.00000000e+00,\n",
       "       2.50000000e+02, 2.90000000e+02, 1.23000000e+02, 2.29000000e+02,\n",
       "       1.07000000e+02, 2.17000000e+02, 1.20000000e+02, 1.86000000e+02,\n",
       "       3.00000000e+03, 3.86000000e+02, 2.83000000e+02, 1.13000000e+02,\n",
       "       1.50000000e+03, 1.93000000e+02, 1.77000000e+02, 4.71000000e+02,\n",
       "       7.50000000e+03, 3.14000000e+02, 3.29000000e+02, 4.57000000e+02,\n",
       "       9.00000000e+02, 1.60000000e+02, 1.20000000e+03, 1.10000000e+02,\n",
       "       2.20000000e+03, 3.10000000e+02, 3.10000000e+03, 1.10000000e+03,\n",
       "       3.07000000e+02, 1.87000000e+02, 1.37000000e+02, 5.14000000e+02,\n",
       "       2.50000000e+03, 6.57000000e+02, 1.53000000e+02, 1.40000000e+02])"
      ]
     },
     "execution_count": 137,
     "metadata": {},
     "output_type": "execute_result"
    }
   ],
   "source": [
    "diabetes_df['GRENDAY_'].unique()"
   ]
  },
  {
   "cell_type": "code",
   "execution_count": 139,
   "id": "abd048bd-5375-433a-b4cc-ac22f9f96894",
   "metadata": {},
   "outputs": [
    {
     "data": {
      "text/plain": [
       "DIFFWALK\n",
       "2.0    196977\n",
       "1.0     49119\n",
       "7.0       875\n",
       "9.0       499\n",
       "Name: count, dtype: int64"
      ]
     },
     "execution_count": 139,
     "metadata": {},
     "output_type": "execute_result"
    }
   ],
   "source": [
    "diabetes_df['DIFFWALK'].value_counts()"
   ]
  },
  {
   "cell_type": "code",
   "execution_count": 140,
   "id": "0844ca3c-90cc-4fe2-9ea8-72cad93f3d99",
   "metadata": {
    "scrolled": true
   },
   "outputs": [
    {
     "data": {
      "text/plain": [
       "array([ 1.,  2., nan,  7.,  9.])"
      ]
     },
     "execution_count": 140,
     "metadata": {},
     "output_type": "execute_result"
    }
   ],
   "source": [
    "diabetes_df['DIFFWALK'].unique()"
   ]
  },
  {
   "cell_type": "code",
   "execution_count": 142,
   "id": "cb8f9d82-4bda-4325-bf9a-12ec11559906",
   "metadata": {},
   "outputs": [
    {
     "data": {
      "text/plain": [
       "_BMI5CAT\n",
       "2.0    84884\n",
       "3.0    70190\n",
       "4.0    65846\n",
       "1.0     5056\n",
       "Name: count, dtype: int64"
      ]
     },
     "execution_count": 142,
     "metadata": {},
     "output_type": "execute_result"
    }
   ],
   "source": [
    "diabetes_df['_BMI5CAT'].value_counts()"
   ]
  },
  {
   "cell_type": "code",
   "execution_count": 143,
   "id": "e3ce6e5e-ad1c-4234-b95b-154e9db9d44e",
   "metadata": {},
   "outputs": [
    {
     "data": {
      "text/plain": [
       "array([ 4.,  3.,  2.,  1., nan])"
      ]
     },
     "execution_count": 143,
     "metadata": {},
     "output_type": "execute_result"
    }
   ],
   "source": [
    "diabetes_df['_BMI5CAT'].unique()"
   ]
  },
  {
   "cell_type": "code",
   "execution_count": 128,
   "id": "41af0b4c-d900-4c8d-a0ce-47727c0ebf2e",
   "metadata": {},
   "outputs": [
    {
     "data": {
      "text/plain": [
       "array([ 1., nan,  2.,  7.,  9.])"
      ]
     },
     "execution_count": 128,
     "metadata": {},
     "output_type": "execute_result"
    }
   ],
   "source": [
    "diabetes_df['SMOKE100'].unique()"
   ]
  },
  {
   "cell_type": "code",
   "execution_count": 151,
   "id": "939324a6-1425-45a9-819f-1a6b9cfb61a1",
   "metadata": {},
   "outputs": [
    {
     "data": {
      "text/plain": [
       "SMOKE100\n",
       "2.0    149366\n",
       "1.0     95249\n",
       "7.0      1081\n",
       "9.0       723\n",
       "Name: count, dtype: int64"
      ]
     },
     "execution_count": 151,
     "metadata": {},
     "output_type": "execute_result"
    }
   ],
   "source": [
    "diabetes_df['SMOKE100'].value_counts()"
   ]
  },
  {
   "cell_type": "code",
   "execution_count": 150,
   "id": "6415ceaf-765b-4fbf-9535-e2600b116753",
   "metadata": {},
   "outputs": [],
   "source": [
    "#diabetes_df['DIFFWALK'].isnull().value_counts()"
   ]
  },
  {
   "cell_type": "code",
   "execution_count": 134,
   "id": "29af87af-9d36-4774-9f9a-ecd2162c88cc",
   "metadata": {},
   "outputs": [],
   "source": [
    "#diabetes_df['FRUTDA1_'].isnull().value_counts()"
   ]
  },
  {
   "cell_type": "code",
   "execution_count": 136,
   "id": "6289084f-2d9e-4884-b509-1b820548bc24",
   "metadata": {},
   "outputs": [],
   "source": [
    "#diabetes_df['GRENDAY_'].isnull().value_counts()"
   ]
  },
  {
   "cell_type": "code",
   "execution_count": 141,
   "id": "d857c13b-9150-473f-bd2c-f58bb4490f81",
   "metadata": {},
   "outputs": [],
   "source": [
    "#diabetes_df['_BMI5CAT'].isnull().value_counts()"
   ]
  },
  {
   "cell_type": "code",
   "execution_count": 144,
   "id": "46aa176d-1df4-4ad4-8e59-a9575d6e9d0a",
   "metadata": {},
   "outputs": [],
   "source": [
    "#diabetes_df['SMOKE100'].isnull().value_counts()"
   ]
  }
 ],
 "metadata": {
  "kernelspec": {
   "display_name": "Python 3 (ipykernel)",
   "language": "python",
   "name": "python3"
  },
  "language_info": {
   "codemirror_mode": {
    "name": "ipython",
    "version": 3
   },
   "file_extension": ".py",
   "mimetype": "text/x-python",
   "name": "python",
   "nbconvert_exporter": "python",
   "pygments_lexer": "ipython3",
   "version": "3.12.3"
  }
 },
 "nbformat": 4,
 "nbformat_minor": 5
}
